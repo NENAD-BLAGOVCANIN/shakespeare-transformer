{
 "cells": [
  {
   "cell_type": "code",
   "execution_count": null,
   "metadata": {},
   "outputs": [],
   "source": [
    "%pip install -r requirements.txt"
   ]
  },
  {
   "cell_type": "code",
   "execution_count": null,
   "metadata": {},
   "outputs": [],
   "source": [
    "import torch\n",
    "import torch.nn as nn\n",
    "import torch.optim as optim\n",
    "from torch.utils.data import DataLoader, Dataset\n",
    "import tiktoken\n",
    "from model import TransformerModel\n",
    "from dataset import TextDataset\n",
    "import kagglehub"
   ]
  },
  {
   "cell_type": "code",
   "execution_count": null,
   "metadata": {},
   "outputs": [],
   "source": [
    "kagglehub.dataset_download(\"nenadblagovcanin/shakespeare\")\n",
    "\n",
    "with open('shakespeare.txt', 'r') as f:\n",
    "    text = f.read()\n",
    "\n",
    "# Set up encoding and tokenizer\n",
    "encoder = tiktoken.get_encoding(\"gpt2\")\n",
    "\n",
    "# Tokenize the text\n",
    "tokens = encoder.encode(text)\n",
    "\n",
    "sequence_length = 256\n",
    "device = torch.device(\"cuda\" if torch.cuda.is_available() else \"cpu\")\n",
    "# Create input-output pairs\n",
    "input_ids = []\n",
    "target_ids = []\n",
    "\n",
    "for i in range(len(tokens) - sequence_length):\n",
    "    input_ids.append(tokens[i:i+sequence_length])\n",
    "    target_ids.append(tokens[i+1:i+sequence_length+1])  # next token as target\n"
   ]
  },
  {
   "cell_type": "code",
   "execution_count": null,
   "metadata": {},
   "outputs": [],
   "source": [
    "# Dataset and DataLoader setup\n",
    "dataset = TextDataset(input_ids, target_ids)\n",
    "dataloader = DataLoader(dataset, batch_size=64, shuffle=True)\n",
    "\n",
    "# Initialize model, loss function, and optimizer\n",
    "model = TransformerModel(vocab_size=encoder.n_vocab)\n",
    "criterion = nn.CrossEntropyLoss()\n",
    "optimizer = torch.optim.Adam(model.parameters(), lr=0.0001)\n",
    "\n",
    "# Training loop\n",
    "epochs = 10"
   ]
  },
  {
   "cell_type": "code",
   "execution_count": null,
   "metadata": {},
   "outputs": [],
   "source": [
    "for epoch in range(epochs):\n",
    "    model.train()\n",
    "    for input_batch, target_batch in dataloader:\n",
    "        optimizer.zero_grad()\n",
    "        \n",
    "        # Move to device (GPU if available)\n",
    "        input_batch = input_batch.to(device)\n",
    "        target_batch = target_batch.to(device)\n",
    "        \n",
    "        # Forward pass\n",
    "        # Exclude the last token from target for next token prediction\n",
    "        output = model(input_batch, target_batch)  # Pass both input and target directly\n",
    "        \n",
    "        # Calculate loss - flatten the tensors\n",
    "        loss = criterion(output.view(-1, encoder.n_vocab), target_batch[:, 1:].contiguous().view(-1))  # Next word prediction\n",
    "        \n",
    "        # Backward pass\n",
    "        loss.backward()\n",
    "        optimizer.step()\n",
    "\n",
    "        print(\"Loss is: \" + str(loss))\n",
    "    \n",
    "    print(f\"Epoch {epoch+1}/{epochs}, Loss: {loss.item()}\")\n",
    "\n",
    "# Save the model state\n",
    "with open('model_state.pt', 'wb') as f:\n",
    "    torch.save(model.state_dict(), f)\n"
   ]
  }
 ],
 "metadata": {
  "kernelspec": {
   "display_name": "Python 3",
   "language": "python",
   "name": "python3"
  },
  "language_info": {
   "codemirror_mode": {
    "name": "ipython",
    "version": 3
   },
   "file_extension": ".py",
   "mimetype": "text/x-python",
   "name": "python",
   "nbconvert_exporter": "python",
   "pygments_lexer": "ipython3",
   "version": "3.12.7"
  }
 },
 "nbformat": 4,
 "nbformat_minor": 2
}
