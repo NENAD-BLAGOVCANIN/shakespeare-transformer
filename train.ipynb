{
 "cells": [
  {
   "cell_type": "code",
   "execution_count": null,
   "metadata": {},
   "outputs": [],
   "source": [
    "#%pip install -r requirements.txt"
   ]
  },
  {
   "cell_type": "code",
   "execution_count": null,
   "metadata": {},
   "outputs": [],
   "source": [
    "import torch\n",
    "import torch.nn as nn\n",
    "import torch.optim as optim\n",
    "from torch.utils.data import DataLoader\n",
    "import tiktoken\n",
    "import kagglehub\n",
    "from dataset import ShakespeareDataset\n",
    "from model import LSTMModel"
   ]
  },
  {
   "cell_type": "code",
   "execution_count": null,
   "metadata": {},
   "outputs": [],
   "source": [
    "# kagglehub.dataset_download(\"nenadblagovcanin/shakespeare\")\n"
   ]
  },
  {
   "cell_type": "code",
   "execution_count": null,
   "metadata": {},
   "outputs": [],
   "source": [
    "with open('shakespeare.txt', 'r') as f:\n",
    "    text = f.read()\n",
    "encoder = tiktoken.get_encoding(\"gpt2\")\n",
    "tokens = encoder.encode(text)"
   ]
  },
  {
   "cell_type": "code",
   "execution_count": null,
   "metadata": {},
   "outputs": [],
   "source": [
    "sequence_length = 256\n",
    "batch_size = 32\n",
    "hidden_size = 512\n",
    "num_layers = 2\n",
    "embedding_size = 128\n",
    "learning_rate = 0.001\n",
    "num_epochs = 5\n",
    "device = torch.device(\"cuda\" if torch.cuda.is_available() else \"cpu\")"
   ]
  },
  {
   "cell_type": "code",
   "execution_count": null,
   "metadata": {},
   "outputs": [],
   "source": [
    "dataset = ShakespeareDataset(tokens, sequence_length)\n",
    "dataloader = DataLoader(dataset, batch_size=batch_size, shuffle=True)"
   ]
  },
  {
   "cell_type": "code",
   "execution_count": null,
   "metadata": {},
   "outputs": [],
   "source": [
    "vocab_size = encoder.n_vocab\n",
    "model = LSTMModel(vocab_size, embedding_size, hidden_size, num_layers).to(device)\n",
    "\n",
    "# Loss and optimizer\n",
    "criterion = nn.CrossEntropyLoss()\n",
    "optimizer = optim.Adam(model.parameters(), lr=learning_rate)"
   ]
  },
  {
   "cell_type": "code",
   "execution_count": null,
   "metadata": {},
   "outputs": [],
   "source": [
    "model.train()\n",
    "for epoch in range(num_epochs):\n",
    "    for batch_idx, (inputs, targets) in enumerate(dataloader):\n",
    "        inputs, targets = inputs.to(device), targets.to(device)\n",
    "        batch_size = inputs.size(0)\n",
    "\n",
    "        # Initialize hidden states\n",
    "        hidden = model.init_hidden(batch_size, hidden_size, num_layers, device)\n",
    "\n",
    "        # Forward pass\n",
    "        outputs, hidden = model(inputs, hidden)\n",
    "\n",
    "        # Reshape outputs and targets for the loss function\n",
    "        loss = criterion(outputs.view(-1, vocab_size), targets.view(-1))\n",
    "\n",
    "        # Backward pass\n",
    "        optimizer.zero_grad()\n",
    "        loss.backward()\n",
    "        optimizer.step()\n",
    "\n",
    "        if batch_idx % 100 == 0:\n",
    "            print(f\"Epoch [{epoch+1}/{num_epochs}], Step [{batch_idx}/{len(dataloader)}], Loss: {loss.item():.4f}\")\n",
    "\n",
    "# 5. Save the Model\n",
    "torch.save(model.state_dict(), \"shakespeare_lstm.pth\")"
   ]
  },
  {
   "cell_type": "code",
   "execution_count": null,
   "metadata": {},
   "outputs": [],
   "source": [
    "def generate_text(model, start_text, max_length=100):\n",
    "    model.eval()\n",
    "    generated_tokens = encoder.encode(start_text)\n",
    "    input_ids = torch.tensor(generated_tokens[-sequence_length:], dtype=torch.long).unsqueeze(0).to(device)\n",
    "\n",
    "    hidden = model.init_hidden(1)\n",
    "    for _ in range(max_length):\n",
    "        outputs, hidden = model(input_ids, hidden)\n",
    "        next_token = torch.argmax(outputs[:, -1, :], dim=-1).item()\n",
    "        generated_tokens.append(next_token)\n",
    "\n",
    "        # Prepare input for the next time step\n",
    "        input_ids = torch.tensor([generated_tokens[-sequence_length:]], dtype=torch.long).to(device)\n",
    "\n",
    "    return encoder.decode(generated_tokens)\n",
    "\n",
    "# Example usage\n",
    "start_text = \"To be, or not to be, that is the question:\"\n",
    "generated_text = generate_text(model, start_text, max_length=100)\n",
    "print(generated_text)"
   ]
  }
 ],
 "metadata": {
  "kernelspec": {
   "display_name": "Python 3",
   "language": "python",
   "name": "python3"
  },
  "language_info": {
   "codemirror_mode": {
    "name": "ipython",
    "version": 3
   },
   "file_extension": ".py",
   "mimetype": "text/x-python",
   "name": "python",
   "nbconvert_exporter": "python",
   "pygments_lexer": "ipython3",
   "version": "3.12.7"
  }
 },
 "nbformat": 4,
 "nbformat_minor": 2
}
