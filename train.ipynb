{
 "cells": [
  {
   "cell_type": "code",
   "execution_count": null,
   "metadata": {},
   "outputs": [],
   "source": [
    "#%pip install -r requirements.txt"
   ]
  },
  {
   "cell_type": "code",
   "execution_count": null,
   "metadata": {},
   "outputs": [],
   "source": [
    "import torch\n",
    "import torch.nn as nn\n",
    "import torch.optim as optim\n",
    "from torch.utils.data import DataLoader\n",
    "import tiktoken\n",
    "from dataset import ShakespeareDataset\n",
    "from model import TransformerModel\n",
    "import config"
   ]
  },
  {
   "cell_type": "code",
   "execution_count": null,
   "metadata": {},
   "outputs": [],
   "source": [
    "# kagglehub.dataset_download(\"nenadblagovcanin/shakespeare\")\n"
   ]
  },
  {
   "cell_type": "code",
   "execution_count": null,
   "metadata": {},
   "outputs": [],
   "source": [
    "with open('shakespeare.txt', 'r') as f:\n",
    "    text = f.read()\n",
    "\n",
    "encoder = tiktoken.get_encoding(\"gpt2\")\n",
    "tokens = encoder.encode(text)"
   ]
  },
  {
   "cell_type": "code",
   "execution_count": null,
   "metadata": {},
   "outputs": [],
   "source": [
    "dataset = ShakespeareDataset(tokens, config.sequence_length)\n",
    "dataloader = DataLoader(dataset, batch_size=config.batch_size, shuffle=True)"
   ]
  },
  {
   "cell_type": "code",
   "execution_count": null,
   "metadata": {},
   "outputs": [],
   "source": [
    "vocab_size = encoder.n_vocab\n",
    "model = TransformerModel(\n",
    "    vocab_size=vocab_size,\n",
    "    embedding_size=config.embedding_size,\n",
    "    num_heads=config.num_heads,\n",
    "    num_layers=config.num_layers,\n",
    "    hidden_size=config.hidden_size,\n",
    "    max_seq_length=config.max_seq_length,\n",
    ").to(config.device)\n",
    "\n",
    "criterion = nn.CrossEntropyLoss()\n",
    "optimizer = optim.Adam(model.parameters(), lr=config.learning_rate)"
   ]
  },
  {
   "cell_type": "code",
   "execution_count": null,
   "metadata": {},
   "outputs": [],
   "source": [
    "model.train()\n",
    "for epoch in range(config.num_epochs):\n",
    "    for batch_idx, (inputs, targets) in enumerate(dataloader):\n",
    "        inputs, targets = inputs.to(config.device), targets.to(config.device)\n",
    "\n",
    "        # Prepare inputs for the Transformer model\n",
    "        decoder_input = torch.cat([torch.zeros(inputs.size(0), 1).long().to(config.device), targets[:, :-1]], dim=1)\n",
    "\n",
    "        # Forward pass\n",
    "        outputs = model(inputs, decoder_input)\n",
    "\n",
    "        # Reshape outputs and targets for the loss function\n",
    "        loss = criterion(outputs.view(-1, vocab_size), targets.view(-1))\n",
    "\n",
    "        # Backward pass\n",
    "        optimizer.zero_grad()\n",
    "        loss.backward()\n",
    "        optimizer.step()\n",
    "\n",
    "        if batch_idx % 100 == 0:\n",
    "            print(f\"Epoch [{epoch+1}/{config.num_epochs}], Step [{batch_idx}/{len(dataloader)}], Loss: {loss.item():.4f}\")\n",
    "\n",
    "# Save the model\n",
    "torch.save(model.state_dict(), \"shakespeare_transformer.pth\")"
   ]
  }
 ],
 "metadata": {
  "kernelspec": {
   "display_name": "Python 3",
   "language": "python",
   "name": "python3"
  },
  "language_info": {
   "codemirror_mode": {
    "name": "ipython",
    "version": 3
   },
   "file_extension": ".py",
   "mimetype": "text/x-python",
   "name": "python",
   "nbconvert_exporter": "python",
   "pygments_lexer": "ipython3",
   "version": "3.12.7"
  }
 },
 "nbformat": 4,
 "nbformat_minor": 2
}
